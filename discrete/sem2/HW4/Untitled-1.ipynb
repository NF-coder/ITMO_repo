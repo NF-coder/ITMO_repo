{
 "cells": [
  {
   "cell_type": "code",
   "execution_count": null,
   "id": "7f2ebc72",
   "metadata": {},
   "outputs": [
    {
     "name": "stderr",
     "output_type": "stream",
     "text": [
      "<>:1: SyntaxWarning: invalid escape sequence '\\ '\n",
      "<>:1: SyntaxWarning: invalid escape sequence '\\ '\n",
      "/tmp/ipykernel_523957/2184244653.py:1: SyntaxWarning: invalid escape sequence '\\ '\n",
      "  s = \"\"\"3\t1\t1\t0\t0\t0\t1\t1\t1\t1\t0\t0\t0\t0\t0\t0\\\n"
     ]
    }
   ],
   "source": [
    "s = \"\"\"1\t1\t0\t0\t0\t1\t1\t1\t1\t0\t0\t0\t0\t0\t0\\ \n",
    "1\t1\t1\t1\t1\t0\t0\t0\t0\t0\t0\t0\t0\t1\t0\\ \n",
    "0\t1\t1\t0\t0\t1\t1\t1\t1\t1\t1\t1\t0\t0\t0\\ \n",
    "0\t1\t0\t1\t0\t1\t1\t1\t1\t1\t1\t1\t1\t1\t1\\ \n",
    "0\t1\t0\t0\t1\t1\t0\t0\t0\t1\t0\t0\t1\t1\t0\\ \n",
    "1\t0\t1\t1\t1\t1\t0\t0\t0\t0\t0\t0\t1\t1\t0\\ \n",
    "1\t0\t1\t1\t0\t0\t1\t0\t0\t1\t0\t0\t1\t1\t0\\ \n",
    "1\t0\t1\t1\t0\t0\t0\t1\t0\t1\t1\t0\t1\t1\t1\\ \n",
    "1\t0\t1\t1\t0\t0\t0\t0\t1\t1\t1\t0\t1\t1\t1\\ \n",
    "0\t0\t1\t1\t1\t0\t1\t1\t1\t1\t0\t0\t1\t1\t0\\ \n",
    "0\t0\t1\t1\t0\t0\t0\t1\t1\t0\t1\t0\t1\t1\t0\\ \n",
    "0\t0\t1\t1\t0\t0\t0\t0\t0\t0\t0\t1\t1\t1\t1\\ \n",
    "0\t0\t0\t1\t1\t1\t1\t1\t1\t1\t1\t1\t1\t1\t0\\ \n",
    "0\t1\t0\t1\t1\t1\t1\t1\t1\t1\t1\t1\t1\t1\t0\\ \n",
    "0\t0\t0\t1\t0\t0\t0\t1\t1\t0\t0\t1\t0\t0\t1\\ \"\"\""
   ]
  },
  {
   "cell_type": "code",
   "execution_count": 5,
   "id": "c3336668",
   "metadata": {},
   "outputs": [
    {
     "name": "stdout",
     "output_type": "stream",
     "text": [
      "[3], [1], [1], [0], [0], [0], [1], [1], [1], [1], [0], [0], [0], [0], [0], [0], \n",
      "[1], [1], [1], [1], [1], [0], [0], [0], [0], [0], [0], [0], [0], [1], [0], \n",
      "[0], [1], [1], [0], [0], [1], [1], [1], [1], [1], [1], [1], [0], [0], [0], \n",
      "[0], [1], [0], [1], [0], [1], [1], [1], [1], [1], [1], [1], [1], [1], [1], \n",
      "[0], [1], [0], [0], [1], [1], [0], [0], [0], [1], [0], [0], [1], [1], [0], \n",
      "[1], [0], [1], [1], [1], [1], [0], [0], [0], [0], [0], [0], [1], [1], [0], \n",
      "[1], [0], [1], [1], [0], [0], [1], [0], [0], [1], [0], [0], [1], [1], [0], \n",
      "[1], [0], [1], [1], [0], [0], [0], [1], [0], [1], [1], [0], [1], [1], [1], \n",
      "[1], [0], [1], [1], [0], [0], [0], [0], [1], [1], [1], [0], [1], [1], [1], \n",
      "[0], [0], [1], [1], [1], [0], [1], [1], [1], [1], [0], [0], [1], [1], [0], \n",
      "[0], [0], [1], [1], [0], [0], [0], [1], [1], [0], [1], [0], [1], [1], [0], \n",
      "[0], [0], [1], [1], [0], [0], [0], [0], [0], [0], [0], [1], [1], [1], [1], \n",
      "[0], [0], [0], [1], [1], [1], [1], [1], [1], [1], [1], [1], [1], [1], [0], \n",
      "[0], [1], [0], [1], [1], [1], [1], [1], [1], [1], [1], [1], [1], [1], [0], \n",
      "[0], [0], [0], [1], [0], [0], [0], [1], [1], [0], [0], [1], [0], [0], [1], \n"
     ]
    }
   ],
   "source": [
    "for line in s.replace(\"\\\\\",\"\").split('\\n'):\n",
    "    for part in line.split():\n",
    "        print(f\"[{part}]\", end=', ')\n",
    "    print()"
   ]
  },
  {
   "cell_type": "code",
   "execution_count": null,
   "id": "3644bde7",
   "metadata": {},
   "outputs": [],
   "source": []
  }
 ],
 "metadata": {
  "kernelspec": {
   "display_name": "Python 3",
   "language": "python",
   "name": "python3"
  },
  "language_info": {
   "codemirror_mode": {
    "name": "ipython",
    "version": 3
   },
   "file_extension": ".py",
   "mimetype": "text/x-python",
   "name": "python",
   "nbconvert_exporter": "python",
   "pygments_lexer": "ipython3",
   "version": "3.12.10"
  }
 },
 "nbformat": 4,
 "nbformat_minor": 5
}
